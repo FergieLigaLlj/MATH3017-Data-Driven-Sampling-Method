{
 "cells": [
  {
   "cell_type": "code",
   "execution_count": 1,
   "metadata": {},
   "outputs": [],
   "source": [
    "# import numpy\n",
    "import numpy as np"
   ]
  },
  {
   "cell_type": "code",
   "execution_count": 2,
   "metadata": {},
   "outputs": [
    {
     "name": "stdout",
     "output_type": "stream",
     "text": [
      "The integral estimate is: 6.274011667620411\n"
     ]
    }
   ],
   "source": [
    "# Method here using monte carlo method: uniform sampling from [a,b] and calculate the integral\n",
    "a = 0\n",
    "b = 2*np.pi\n",
    "# Define g(x)\n",
    "def g(x):\n",
    "    return (b-a) * ((np.sin(100 * x) + np.cos(50 * x))**2)\n",
    "def monte_carlo(n):\n",
    "    X = np.random.uniform(a, b, n)\n",
    "    g_x = g(X)\n",
    "    integral_estimate = np.mean(g_x)\n",
    "    return integral_estimate\n",
    "n = 100000\n",
    "integral_estimate = float(monte_carlo(n))\n",
    "print(\"The integral estimate is:\",integral_estimate)"
   ]
  },
  {
   "cell_type": "code",
   "execution_count": 3,
   "metadata": {},
   "outputs": [
    {
     "name": "stdout",
     "output_type": "stream",
     "text": [
      "Symbolic integral result: 6.283185307179586\n"
     ]
    }
   ],
   "source": [
    "# SymPy for exact integral checking\n",
    "from sympy import symbols, integrate, sin, cos, pi\n",
    "\n",
    "# Define the variable\n",
    "x = symbols('x')\n",
    "\n",
    "# Define the function\n",
    "f = (sin(100 * x) + cos(50 * x))**2\n",
    "\n",
    "# Compute the definite integral from 0 to 2*pi\n",
    "integral_value = float(integrate(f, (x, 0, 2 * pi)))\n",
    "\n",
    "print(\"Symbolic integral result:\",integral_value)\n"
   ]
  },
  {
   "cell_type": "code",
   "execution_count": 4,
   "metadata": {},
   "outputs": [
    {
     "name": "stdout",
     "output_type": "stream",
     "text": [
      "Error is: 0.00917363955917505\n",
      "Relative error is: 0.001460030081986065\n"
     ]
    }
   ],
   "source": [
    "# Error calculation\n",
    "error = abs(integral_value - integral_estimate)\n",
    "print(\"Error is:\", error)\n",
    "print(\"Relative error is:\", error / integral_value)"
   ]
  }
 ],
 "metadata": {
  "kernelspec": {
   "display_name": "Python 3",
   "language": "python",
   "name": "python3"
  },
  "language_info": {
   "codemirror_mode": {
    "name": "ipython",
    "version": 3
   },
   "file_extension": ".py",
   "mimetype": "text/x-python",
   "name": "python",
   "nbconvert_exporter": "python",
   "pygments_lexer": "ipython3",
   "version": "3.13.1"
  }
 },
 "nbformat": 4,
 "nbformat_minor": 2
}

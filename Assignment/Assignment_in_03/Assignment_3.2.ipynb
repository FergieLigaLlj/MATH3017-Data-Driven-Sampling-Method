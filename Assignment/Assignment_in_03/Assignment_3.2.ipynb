{
 "cells": [
  {
   "cell_type": "code",
   "execution_count": 1,
   "metadata": {},
   "outputs": [],
   "source": [
    "### Import Library\n",
    "import numpy as np"
   ]
  },
  {
   "cell_type": "code",
   "execution_count": 2,
   "metadata": {},
   "outputs": [
    {
     "name": "stdout",
     "output_type": "stream",
     "text": [
      "[1.54688916 1.79789902 1.82040188 1.12204987 1.60200201 1.52551458\n",
      " 1.46390841 1.47144574 1.63271284 1.92566388 1.81550292 1.94444175\n",
      " 1.91958514 1.4148308  1.82581196]\n"
     ]
    }
   ],
   "source": [
    "left,right,size=1,2,15 # three parameters of uniform distribution\n",
    "np.random.seed(39)\n",
    "X=np.random.uniform(left,right,size) #generate a U(0, 1) random variables\n",
    "print(X) #print the random variable X"
   ]
  },
  {
   "cell_type": "code",
   "execution_count": 3,
   "metadata": {},
   "outputs": [
    {
     "name": "stdout",
     "output_type": "stream",
     "text": [
      "[1.77770241 1.23754122 1.82427853 1.9657492  1.97260111 1.45344925\n",
      " 1.60904246 1.77552651 1.64161334 1.72201823 1.03503652 1.29844947\n",
      " 1.05851249 1.85706094 1.37285403]\n"
     ]
    }
   ],
   "source": [
    "np.random.seed(13)\n",
    "X=np.random.uniform(left,right,size) #generate a U(0, 1) random variables\n",
    "print(X) #print the random variable X"
   ]
  }
 ],
 "metadata": {
  "kernelspec": {
   "display_name": "Python 3",
   "language": "python",
   "name": "python3"
  },
  "language_info": {
   "codemirror_mode": {
    "name": "ipython",
    "version": 3
   },
   "file_extension": ".py",
   "mimetype": "text/x-python",
   "name": "python",
   "nbconvert_exporter": "python",
   "pygments_lexer": "ipython3",
   "version": "3.11.9"
  }
 },
 "nbformat": 4,
 "nbformat_minor": 2
}
